{
 "cells": [
  {
   "cell_type": "markdown",
   "id": "25bc8d53-1add-4e73-a784-304a9d9b8453",
   "metadata": {},
   "source": [
    " import random\n",
    "\n",
    "# numero = random.randrange(1, 100)\n",
    "numero = random.randint(1,100)\n",
    "\n",
    "print('Um valor aletório foi gerado, tente adivinhar o numero. Entre o intervalo de 1 e 100. Você tem 10 chances.')\n",
    "contador = 0\n",
    "\n",
    "while contador < 10 :\n",
    "        contador += 1\n",
    "        palpite = int(input('Apresente o seu palpite: '))\n",
    "\n",
    "        if palpite == numero :\n",
    "            print(f'Voce acertou de primeira o valor {numero}, em {contador} tentativa, meus parabens!!')\n",
    "            break\n",
    "        elif palpite < numero :\n",
    "            print(f'Seu palpite {palpite}, está abaixo do numero secreto, tente mais uma vez')\n",
    "        else :\n",
    "            print(f'Seu palpite {palpite}, está acima do numero secreto, tente mais uma vez')\n",
    "        if contador == 10 :\n",
    "            print(f'O numero de chances se esgotou, chegando em {contador}. O numero secreto era {numero}. Tente jogar mais uma vez')\n"
   ]
  },
  {
   "cell_type": "code",
   "execution_count": 17,
   "id": "d03bee5f-a9bd-4e53-99e3-d4c47138c913",
   "metadata": {},
   "outputs": [
    {
     "name": "stdout",
     "output_type": "stream",
     "text": [
      "Um valor aletório foi gerado, tente adivinhar o numero. Entre o intervalo de 1 e 100. Você tem 6 chances.\n"
     ]
    },
    {
     "name": "stdin",
     "output_type": "stream",
     "text": [
      "Apresente o seu palpite:  50\n"
     ]
    },
    {
     "name": "stdout",
     "output_type": "stream",
     "text": [
      "Seu palpite 50, está acima do numero secreto, tente mais uma vez\n"
     ]
    },
    {
     "name": "stdin",
     "output_type": "stream",
     "text": [
      "Apresente o seu palpite:  25\n"
     ]
    },
    {
     "name": "stdout",
     "output_type": "stream",
     "text": [
      "Seu palpite 25, está abaixo do numero secreto, tente mais uma vez\n"
     ]
    },
    {
     "name": "stdin",
     "output_type": "stream",
     "text": [
      "Apresente o seu palpite:  37\n"
     ]
    },
    {
     "name": "stdout",
     "output_type": "stream",
     "text": [
      "Seu palpite 37, está abaixo do numero secreto, tente mais uma vez\n"
     ]
    },
    {
     "name": "stdin",
     "output_type": "stream",
     "text": [
      "Apresente o seu palpite:  44\n"
     ]
    },
    {
     "name": "stdout",
     "output_type": "stream",
     "text": [
      "Seu palpite 44, está acima do numero secreto, tente mais uma vez\n"
     ]
    },
    {
     "name": "stdin",
     "output_type": "stream",
     "text": [
      "Apresente o seu palpite:  40\n"
     ]
    },
    {
     "name": "stdout",
     "output_type": "stream",
     "text": [
      "Seu palpite 40 esta incorreto, você tem a sua ultima chance!\n"
     ]
    },
    {
     "name": "stdin",
     "output_type": "stream",
     "text": [
      "Apresente o seu palpite:  10\n"
     ]
    },
    {
     "name": "stdout",
     "output_type": "stream",
     "text": [
      "Seu palpite 10, está abaixo do numero secreto, tente mais uma vez\n",
      "O numero de chances se esgotou, chegando em 6. O numero secreto era 42. Tente jogar mais uma vez\n"
     ]
    }
   ],
   "source": [
    "import random\n",
    "\n",
    "numero = random.randint(1,100)\n",
    "chances = 6\n",
    "\n",
    "print(f'Um valor aletório foi gerado, tente adivinhar o numero. Entre o intervalo de 1 e 100. Você tem {chances} chances.') \n",
    "contador = 0\n",
    "\n",
    "while contador < chances : \n",
    "    contador += 1 \n",
    "    palpite = int(input('Apresente o seu palpite: '))\n",
    "\n",
    "    if palpite == numero and contador == 1:\n",
    "        print(f'Voce acertou de primeira o valor {numero}, em {contador} tentativa, meus parabens!!')\n",
    "        break\n",
    "    elif palpite == numero :\n",
    "        print(f'Voce acertou o valor {numero}, em {contador} tentativa, meus parabens!!')\n",
    "        break\n",
    "    elif palpite != numero and contador == (chances - 1) :\n",
    "        print(f'Seu palpite {palpite} esta incorreto, você tem a sua ultima chance!')\n",
    "    elif palpite < numero :\n",
    "        print(f'Seu palpite {palpite}, está abaixo do numero secreto, tente mais uma vez')\n",
    "    else :\n",
    "        print(f'Seu palpite {palpite}, está acima do numero secreto, tente mais uma vez')\n",
    "    if contador == chances :\n",
    "        print(f'O numero de chances se esgotou, chegando em {contador}. O numero secreto era {numero}. Tente jogar mais uma vez')"
   ]
  },
  {
   "cell_type": "code",
   "execution_count": null,
   "id": "f975e5d6-54a4-448f-8e0b-14046fc1d441",
   "metadata": {},
   "outputs": [],
   "source": []
  }
 ],
 "metadata": {
  "kernelspec": {
   "display_name": "anaconda-2024.02-py310",
   "language": "python",
   "name": "conda-env-anaconda-2024.02-py310-py"
  },
  "language_info": {
   "codemirror_mode": {
    "name": "ipython",
    "version": 3
   },
   "file_extension": ".py",
   "mimetype": "text/x-python",
   "name": "python",
   "nbconvert_exporter": "python",
   "pygments_lexer": "ipython3",
   "version": "3.10.14"
  }
 },
 "nbformat": 4,
 "nbformat_minor": 5
}
