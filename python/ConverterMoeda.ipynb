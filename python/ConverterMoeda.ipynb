{
 "cells": [
  {
   "cell_type": "code",
   "execution_count": 13,
   "id": "e1d3a49a-db35-4d05-8ff0-5da3ed1124de",
   "metadata": {},
   "outputs": [
    {
     "name": "stdin",
     "output_type": "stream",
     "text": [
      "Informe o valor em Reais que voce deseja converter:  100\n",
      "Escolha o numero de qual moeda você deseja converter de Real para : 1 - Dollar, 2 - Euro, 3 - Libra 3\n"
     ]
    },
    {
     "name": "stdout",
     "output_type": "stream",
     "text": [
      "O valor em libra que voce tem/Ou deve receber é: 14.29, tendo 100.0 Reais, com a cotação da moeda: libra estando em 7.0\n"
     ]
    }
   ],
   "source": [
    "#Exercicio de conversão de moeda para real\n",
    "\n",
    "dollar = 5.0 #Como float\n",
    "euro = 6.0 #Como float\n",
    "libra = 7.0 #Como float\n",
    "# 1 - Dollar, 2 - Euro, 3 - Libra\n",
    "\n",
    "valor_reais = float(input('Informe o valor em Reais que voce deseja converter: '))\n",
    "escolha_convert = int(input('Escolha o numero de qual moeda você deseja converter de Real para : 1 - Dollar, 2 - Euro, 3 - Libra'))\n",
    "\n",
    "if escolha_convert == 1 :\n",
    "    convert = dollar\n",
    "    nome_moeda = 'dollar'\n",
    "elif escolha_convert == 2 :\n",
    "    convert = euro\n",
    "    nome_moeda = 'euro'\n",
    "elif escolha_convert == 3 :\n",
    "    convert = libra\n",
    "    nome_moeda = 'libra'\n",
    "\n",
    "valor_convert = valor_reais / convert\n",
    "print(f'O valor em {nome_moeda} que voce tem/Ou deve receber é: {valor_convert:.2f}, tendo {valor_reais} Reais, com a cotação da moeda: {nome_moeda} estando em {convert}')\n",
    "    "
   ]
  },
  {
   "cell_type": "code",
   "execution_count": null,
   "id": "a457234e-001d-4115-a549-898dc40d1f06",
   "metadata": {},
   "outputs": [],
   "source": []
  }
 ],
 "metadata": {
  "kernelspec": {
   "display_name": "anaconda-panel-2023.05-py310",
   "language": "python",
   "name": "conda-env-anaconda-panel-2023.05-py310-py"
  },
  "language_info": {
   "codemirror_mode": {
    "name": "ipython",
    "version": 3
   },
   "file_extension": ".py",
   "mimetype": "text/x-python",
   "name": "python",
   "nbconvert_exporter": "python",
   "pygments_lexer": "ipython3",
   "version": "3.11.5"
  }
 },
 "nbformat": 4,
 "nbformat_minor": 5
}
